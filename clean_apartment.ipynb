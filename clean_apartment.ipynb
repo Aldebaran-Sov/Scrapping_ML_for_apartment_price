{
 "cells": [
  {
   "cell_type": "code",
   "execution_count": null,
   "metadata": {},
   "outputs": [],
   "source": [
    "import pandas as pd\n",
    "import csv\n",
    "import numpy as np\n",
    "import matplotlib.pyplot as plt\n",
    "import seaborn as sns \n",
    "from sklearn.model_selection import train_test_split, cross_val_score, GridSearchCV\n",
    "from sklearn.preprocessing import StandardScaler, OneHotEncoder\n",
    "from sklearn.compose import ColumnTransformer\n",
    "from sklearn.pipeline import Pipeline\n",
    "from sklearn.linear_model import LinearRegression\n",
    "from sklearn.preprocessing import PolynomialFeatures\n",
    "from sklearn.neighbors import KNeighborsClassifier, KNeighborsRegressor\n",
    "from sklearn.tree import DecisionTreeClassifier, DecisionTreeRegressor, plot_tree\n",
    "from sklearn.metrics import mean_squared_error, r2_score, mean_absolute_error, classification_report"
   ]
  },
  {
   "cell_type": "markdown",
   "metadata": {},
   "source": [
    "# VII Clean for ML on appartment rent"
   ]
  },
  {
   "cell_type": "markdown",
   "metadata": {},
   "source": [
    "To predict appartement rent :\n",
    "- Number of bedrooms\n",
    "- \"McMeal at McDonalds (or Equivalent Combo Meal) \": \"McDonalds\",\n",
    "- \"Water (1.5 liter bottle) \": \"Water\",\n",
    "- \"Fitness Club, Monthly Fee for 1 Adult \": \"Fitness_Club\",\n",
    "- \"Average Monthly Net Salary (After Tax) \": \"Salary\""
   ]
  },
  {
   "cell_type": "code",
   "execution_count": null,
   "metadata": {},
   "outputs": [],
   "source": [
    "df = pd.read_csv(\"clean_cost_of_living.csv\")\n",
    "df = df.groupby([\"Country\", \"Item\"], as_index=False).agg({\"Price\": \"mean\"})\n",
    "\n",
    "df[\"Price\"] = pd.to_numeric(df[\"Price\"], errors=\"coerce\")\n",
    "extras_pivot = df.pivot(index=\"Country\", columns=\"Item\", values=\"Price\").reset_index()\n",
    "\n",
    "for col in extras_pivot.columns[1:]:\n",
    "    extras_pivot[col] = pd.to_numeric(extras_pivot[col], errors=\"coerce\")\n",
    "# Filtrer les colonnes purement numériques\n",
    "numeric_df = extras_pivot.select_dtypes(include=[\"number\"])\n",
    "\n",
    "# 1. Calculer la matrice de corrélation\n",
    "corr_matrix = numeric_df.corr()\n",
    "\n",
    "# 2. Appliquer une condition : Masquer les valeurs < 0.4 (remplacées par NaN)\n",
    "filtered_corr = corr_matrix.where(corr_matrix >= 0.4)\n",
    "# Calculer la matrice de corrélation\n",
    "plt.figure(figsize=(25, 25))  # Facultatif : pour ajuster la taille de l'image\n",
    "# Masquer à la fois les corrélations sous le seuil et la diagonale\n",
    "mask = np.triu(np.ones_like(filtered_corr, dtype=bool))  # Masque pour la matrice triangulaire supérieure\n",
    "sns.heatmap(\n",
    "    filtered_corr,\n",
    "    annot=True,\n",
    "    cmap=\"coolwarm\",\n",
    "    fmt=\".2f\",\n",
    "    mask=mask  # Appliquer le masque\n",
    ")\n",
    "plt.title(\"Matrice de corrélation (>= 0.4 uniquement)\")\n",
    "plt.show()"
   ]
  },
  {
   "cell_type": "code",
   "execution_count": null,
   "metadata": {},
   "outputs": [],
   "source": [
    "print(extras_pivot.isna().sum())"
   ]
  },
  {
   "cell_type": "code",
   "execution_count": null,
   "metadata": {},
   "outputs": [],
   "source": [
    "df = pd.read_csv(\"clean_cost_of_living.csv\")\n",
    "df = df[df['Item'].str.contains(r'Apartment \\(') | df['Item'].str.contains(r'Water \\(1.5 liter bottle\\)') | df['Item'].str.contains(r'McDonalds') | df['Item'].str.contains(r'Average Monthly Net Salary \\(After Tax\\)') | df['Item'].str.contains(r'Fitness Club, Monthly Fee for 1 Adult')]\n",
    "df = df.dropna()\n"
   ]
  },
  {
   "cell_type": "code",
   "execution_count": null,
   "metadata": {},
   "outputs": [],
   "source": [
    "df"
   ]
  },
  {
   "cell_type": "code",
   "execution_count": null,
   "metadata": {},
   "outputs": [],
   "source": [
    "df.to_csv(\"clean_apartment.csv\", index=False, quoting=csv.QUOTE_NONNUMERIC)"
   ]
  },
  {
   "cell_type": "code",
   "execution_count": null,
   "metadata": {},
   "outputs": [],
   "source": [
    "print(df.head())\n",
    "print(df.info())\n",
    "print(df.describe())"
   ]
  },
  {
   "cell_type": "code",
   "execution_count": null,
   "metadata": {},
   "outputs": [],
   "source": [
    "# Étape 2 : Extraire les prix pour McMeal et Gasoline\n",
    "extras = df[df[\"Item\"].str.contains(\"McMeal|Water|Fitness|Average\")].copy()\n",
    "\n",
    "# Étape 3 : Réorganiser les données pour obtenir une table pivot des extras\n",
    "extras_pivot = extras.pivot(index=\"Country\", columns=\"Item\", values=\"Price\").reset_index()\n",
    "\n",
    "# Renommer les colonnes pivotées pour faciliter la lecture\n",
    "extras_pivot.rename(columns={\n",
    "    \"McMeal at McDonalds (or Equivalent Combo Meal) \": \"McDonalds\",\n",
    "    \"Water (1.5 liter bottle) \": \"Water\",\n",
    "    \"Fitness Club, Monthly Fee for 1 Adult \": \"Fitness_Club\",\n",
    "    \"Average Monthly Net Salary (After Tax) \": \"Salary\"\n",
    "\n",
    "}, inplace=True)\n",
    "\n",
    "# Étape 4 : Filtrer les lignes pour les appartements uniquement\n",
    "apartments = df[df[\"Item\"].str.contains(\"Apartment\")].copy()\n",
    "\n",
    "# Ajout des colonnes \"City Centre\" et \"Bedrooms\"\n",
    "apartments[\"City_Centre\"] = apartments[\"Item\"].apply(\n",
    "    lambda x: 1 if \"in City Centre\" in x else 0\n",
    ")\n",
    "apartments[\"Bedrooms\"] = apartments[\"Item\"].str.extract(r'(\\d+)').astype(int)\n",
    "\n",
    "# Étape 5 : Garder les colonnes principales pour les logements\n",
    "apartments = apartments[[\"Country\", \"City_Centre\", \"Bedrooms\", \"Price\"]]\n",
    "\n",
    "# Étape 6 : Fusionner les extras au tableau des appartements\n",
    "final_result = apartments.merge(extras_pivot, on=\"Country\", how=\"left\")"
   ]
  },
  {
   "cell_type": "code",
   "execution_count": null,
   "metadata": {},
   "outputs": [],
   "source": [
    "df = final_result\n",
    "df = df.dropna()\n",
    "df.to_csv(\"data_ml.csv\", index=False, quoting=csv.QUOTE_NONNUMERIC)\n",
    "# print(df.head())\n",
    "# print(df.info())\n",
    "# print(df.describe())"
   ]
  },
  {
   "cell_type": "code",
   "execution_count": null,
   "metadata": {},
   "outputs": [],
   "source": [
    "plt.figure(figsize=(8, 5))\n",
    "sns.boxplot(x=\"City_Centre\", y=\"Price\", data=df)\n",
    "plt.title(\"Prix en fonction de la localisation (centre-ville ou non)\", fontsize=16)\n",
    "plt.xlabel(\"Centre-ville (0 = Non, 1 = Oui)\", fontsize=12)\n",
    "plt.ylabel(\"Prix\")\n",
    "plt.show()"
   ]
  },
  {
   "cell_type": "code",
   "execution_count": null,
   "metadata": {},
   "outputs": [],
   "source": [
    "# Identifiez les colonnes numériques pour y appliquer l'IQR\n",
    "numeric_columns = df.select_dtypes(include=[\"float64\", \"int64\"]).columns\n",
    "\n",
    "# Stocker les résultats\n",
    "outliers_info = {}\n",
    "\n",
    "# Itérer sur chaque colonne numérique\n",
    "for column in numeric_columns:\n",
    "    if column != \"Price\":\n",
    "        Q1 = df[column].quantile(0.25)  # 1er quartile (25%)\n",
    "        Q3 = df[column].quantile(0.75)  # 3ème quartile (75%)\n",
    "        IQR = Q3 - Q1                   # Intervalle interquartile\n",
    "\n",
    "        # Limites pour détecter les valeurs aberrantes\n",
    "        lower_bound = Q1 - 3 * IQR\n",
    "        upper_bound = Q3 + 3 * IQR\n",
    "\n",
    "        # Stocker les informations pour ce calcul\n",
    "        outliers_info[column] = {\n",
    "            \"IQR\": IQR,\n",
    "            \"Lower Bound\": lower_bound,\n",
    "            \"Upper Bound\": upper_bound,\n",
    "            \"Outliers\": df[(df[column] < lower_bound) | (df[column] > upper_bound)][column].tolist()\n",
    "        }\n",
    "\n",
    "# Afficher les résultats\n",
    "for column, info in outliers_info.items():\n",
    "    print(f\"\\n**Colonne : {column}**\")\n",
    "    print(f\"IQR : {info['IQR']}\")\n",
    "    print(f\"Limite inférieure : {info['Lower Bound']} / Limite supérieure : {info['Upper Bound']}\")\n",
    "    print(f\"Valeurs aberrantes : {info['Outliers']}\")\n"
   ]
  },
  {
   "cell_type": "code",
   "execution_count": null,
   "metadata": {},
   "outputs": [],
   "source": [
    "print(\"Nombre de lignes avant nettoyage :\", len(df))\n",
    "for column, info in outliers_info.items():\n",
    "    lower = info['Lower Bound']\n",
    "    upper = info['Upper Bound']\n",
    "    df = df[(df[column] >= lower) & (df[column] <= upper)]\n",
    "\n",
    "# Afficher la taille des données après suppression\n",
    "print(\"Nombre de lignes après nettoyage :\", len(df))\n",
    "df.to_csv(\"data_ml_clean.csv\", index=False, quoting=csv.QUOTE_NONNUMERIC)\n"
   ]
  },
  {
   "cell_type": "code",
   "execution_count": null,
   "metadata": {},
   "outputs": [],
   "source": [
    "plt.figure(figsize=(8, 5))\n",
    "sns.boxplot(x=\"City_Centre\", y=\"Price\", data=df)\n",
    "plt.title(\"Prix en fonction de la localisation (centre-ville ou non)\", fontsize=16)\n",
    "plt.xlabel(\"Centre-ville (0 = Non, 1 = Oui)\", fontsize=12)\n",
    "plt.ylabel(\"Prix\")\n",
    "plt.show()"
   ]
  }
 ],
 "metadata": {
  "kernelspec": {
   "display_name": ".venv",
   "language": "python",
   "name": "python3"
  },
  "language_info": {
   "codemirror_mode": {
    "name": "ipython",
    "version": 3
   },
   "file_extension": ".py",
   "mimetype": "text/x-python",
   "name": "python",
   "nbconvert_exporter": "python",
   "pygments_lexer": "ipython3",
   "version": "3.12.3"
  }
 },
 "nbformat": 4,
 "nbformat_minor": 2
}
