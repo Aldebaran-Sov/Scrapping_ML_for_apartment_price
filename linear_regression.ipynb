{
 "cells": [
  {
   "cell_type": "code",
   "execution_count": 23,
   "metadata": {},
   "outputs": [],
   "source": [
    "import pandas as pd\n",
    "import numpy as np\n",
    "import csv\n",
    "import plotly.express as px\n",
    "import plotly.graph_objects as go\n",
    "import plotly.io as pio\n",
    "from sklearn.model_selection import train_test_split\n",
    "from sklearn.linear_model import LinearRegression\n",
    "from sklearn.preprocessing import PolynomialFeatures\n",
    "from sklearn.metrics import mean_squared_error, mean_absolute_error, r2_score\n"
   ]
  },
  {
   "cell_type": "markdown",
   "metadata": {},
   "source": [
    "# Linear regression"
   ]
  },
  {
   "cell_type": "code",
   "execution_count": 24,
   "metadata": {},
   "outputs": [],
   "source": [
    "df = pd.read_csv(\"data_ml_clean.csv\")"
   ]
  },
  {
   "cell_type": "code",
   "execution_count": 25,
   "metadata": {},
   "outputs": [
    {
     "name": "stdout",
     "output_type": "stream",
     "text": [
      "Performances du modèle régression linéaire:\n",
      "Coefficient de détermination (R²) : 0.7372911169338275\n",
      "Mean Squared Error (MSE) : 149490.50334791152\n",
      "Mean Absolute Error (MAE) : 235.73795928232326\n",
      "Mean Absolute Percentage Error (MAPE) : 48.54%\n",
      "Performances du modèle polynomial:\n",
      "Coefficient de détermination (R²) : 0.792993770364702\n",
      "Mean Squared Error (MSE) : 117793.75369099854\n",
      "Mean Absolute Error (MAE) : 184.32395490085608\n",
      "Mean Absolute Percentage Error (MAPE) : 31.38%\n"
     ]
    }
   ],
   "source": [
    "# One-hot encoding pour les \"Country\" (chaîne de texte transformée en colonnes numériques)\n",
    "data_encoded = pd.get_dummies(df, columns=[\"Country\"], drop_first=True)\n",
    "data_encoded.to_csv(\"data_ml_clean_OneHot.csv\", index=False, quoting=csv.QUOTE_NONNUMERIC)\n",
    "\n",
    "# Définir les features et la cible\n",
    "features = [\"City_Centre\",\"Bedrooms\",\"Salary\",\"Fitness_Club\",\"McDonalds\",\"Water\"] + \\\n",
    "           [col for col in data_encoded.columns if col.startswith(\"Country_\")]\n",
    "X = data_encoded[features]  # Variables explicatives\n",
    "y = data_encoded[\"Price\"]  # Variable cible\n",
    "\n",
    "\n",
    "# Diviser les données en entraînement et test\n",
    "X_train, X_test, y_train, y_test = train_test_split(X, y, test_size=0.2, random_state=3)\n",
    "\n",
    "# Créer et entraîner le modèle de régression linéaire\n",
    "model = LinearRegression()\n",
    "model.fit(X_train, y_train)\n",
    "\n",
    "# Prédire les prix sur les données de test\n",
    "y_pred = model.predict(X_test)\n",
    "\n",
    "# Évaluer les performances du modèle\n",
    "mse = mean_squared_error(y_test, y_pred)\n",
    "r2 = r2_score(y_test, y_pred)\n",
    "mae = mean_absolute_error(y_test, y_pred)\n",
    "mape = (abs(y_test - y_pred) / abs(y_test)).mean() * 100\n",
    "\n",
    "print(f\"Performances du modèle régression linéaire:\")\n",
    "print(f\"Coefficient de détermination (R²) : {r2}\")\n",
    "print(f\"Mean Squared Error (MSE) : {mse}\")\n",
    "print(f\"Mean Absolute Error (MAE) : {mae}\")\n",
    "print(f\"Mean Absolute Percentage Error (MAPE) : {mape:.2f}%\")\n",
    "\n",
    "# Créer et entraîner le modèle de régression polynomial\n",
    "for degree in [2]:\n",
    "    poly_transformer = PolynomialFeatures(degree=degree, include_bias=False)\n",
    "    X_train_poly = poly_transformer.fit_transform(X_train)\n",
    "    X_test_poly = poly_transformer.transform(X_test)\n",
    "\n",
    "    model_poly = LinearRegression()\n",
    "    model_poly.fit(X_train_poly, y_train)\n",
    "    y_pred = model_poly.predict(X_test_poly)\n",
    "\n",
    "    mse = mean_squared_error(y_test, y_pred)\n",
    "    r2 = r2_score(y_test, y_pred)\n",
    "    mae = mean_absolute_error(y_test, y_pred)\n",
    "    mape = (abs(y_test - y_pred) / abs(y_test)).mean() * 100\n",
    "\n",
    "    print(f\"Performances du modèle polynomial:\")\n",
    "    print(f\"Coefficient de détermination (R²) : {r2}\")\n",
    "    print(f\"Mean Squared Error (MSE) : {mse}\")\n",
    "    print(f\"Mean Absolute Error (MAE) : {mae}\")\n",
    "    print(f\"Mean Absolute Percentage Error (MAPE) : {mape:.2f}%\")\n"
   ]
  },
  {
   "cell_type": "code",
   "execution_count": null,
   "metadata": {},
   "outputs": [
    {
     "name": "stdout",
     "output_type": "stream",
     "text": [
      "Opening in existing browser session.\n"
     ]
    }
   ],
   "source": [
    "# 1. Créer un DataFrame pour les résultats\n",
    "results_df = pd.DataFrame({\n",
    "    \"y_test\": y_test,\n",
    "    \"y_pred\": y_pred\n",
    "})\n",
    "\n",
    "# 2. Visualiser les valeurs réelles vs prédites\n",
    "fig = px.scatter(\n",
    "    results_df, \n",
    "    x=\"y_test\", \n",
    "    y=\"y_pred\", \n",
    "    labels={\"y_test\": \"Valeurs réelles\", \"y_pred\": \"Valeurs prédites\"},\n",
    "    title=\"Comparaison entre valeurs réelles et prédites (modèle polynomial)\"\n",
    ")\n",
    "\n",
    "# Ajouter une ligne \"parfaite\" (y_test == y_pred)\n",
    "fig.add_shape(\n",
    "    type=\"line\", line=dict(dash=\"dash\"), \n",
    "    x0=min(y_test), y0=min(y_test), \n",
    "    x1=max(y_test), y1=max(y_test)\n",
    ")\n",
    "# pio.renderers.default = \"browser\"\n",
    "fig.update_layout(showlegend=False)\n",
    "fig.show()\n"
   ]
  },
  {
   "cell_type": "code",
   "execution_count": 27,
   "metadata": {},
   "outputs": [
    {
     "name": "stdout",
     "output_type": "stream",
     "text": [
      "Opening in existing browser session.\n"
     ]
    }
   ],
   "source": [
    "# Calcul des résidus\n",
    "# Les résidus (y_test - y_pred) doivent idéalement être répartis de manière aléatoire autour de zéro.\n",
    "residuals = y_test - y_pred\n",
    "residuals_df = pd.DataFrame({\"y_test\": y_test, \"residuals\": residuals})\n",
    "\n",
    "# Résidus en fonction des valeurs réelles\n",
    "fig = px.scatter(\n",
    "    residuals_df, \n",
    "    x=\"y_test\", \n",
    "    y=\"residuals\",\n",
    "    labels={\"y_test\": \"Valeurs réelles\", \"residuals\": \"Résidus\"},\n",
    "    title=\"Résidus en fonction des valeurs réelles\"\n",
    ")\n",
    "\n",
    "# Ajouter une ligne horizontale (erreur nulle)\n",
    "fig.add_shape(\n",
    "    type=\"line\", line=dict(dash=\"dash\"),\n",
    "    x0=min(y_test), x1=max(y_test),\n",
    "    y0=0, y1=0\n",
    ")\n",
    "\n",
    "fig.update_layout(showlegend=False)\n",
    "fig.show()\n"
   ]
  },
  {
   "cell_type": "code",
   "execution_count": 28,
   "metadata": {},
   "outputs": [],
   "source": [
    "# # Tracer les données (uniquement pour les modèles avec une seule feature X)\n",
    "# X_range = np.linspace(min(X_train), max(X_train), 200).reshape(-1, 1)\n",
    "# X_poly_range = poly_transformer.transform(X_range)\n",
    "# y_pred_range = model_poly.predict(X_poly_range)\n",
    "\n",
    "# fig = px.scatter(\n",
    "#     x=X_train.flatten(), \n",
    "#     y=y_train, \n",
    "#     labels={\"x\": \"X (Feature)\", \"y\": \"y (Valeurs Réelles)\"},\n",
    "#     title=\"Ajustement du modèle polynomial\"\n",
    "# )\n",
    "\n",
    "# fig.add_traces(\n",
    "#     px.line(\n",
    "#         x=X_range.flatten(), \n",
    "#         y=y_pred_range, \n",
    "#         labels={\"x\": \"X (Feature)\", \"y\": \"y\"},\n",
    "#     ).data\n",
    "# )\n",
    "\n",
    "# fig.show()\n"
   ]
  }
 ],
 "metadata": {
  "kernelspec": {
   "display_name": ".venv",
   "language": "python",
   "name": "python3"
  },
  "language_info": {
   "codemirror_mode": {
    "name": "ipython",
    "version": 3
   },
   "file_extension": ".py",
   "mimetype": "text/x-python",
   "name": "python",
   "nbconvert_exporter": "python",
   "pygments_lexer": "ipython3",
   "version": "3.12.3"
  }
 },
 "nbformat": 4,
 "nbformat_minor": 2
}
